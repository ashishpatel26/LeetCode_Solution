{
 "cells": [
  {
   "cell_type": "markdown",
   "metadata": {},
   "source": [
    "### [0002. \tAdd Two Numbers](https://leetcode.com/problems/add-two-numbers/)\n",
    "---\n",
    "* **Tags**: recursion, linked list, math\n",
    "* **Difficulty**: Medium\n",
    "\n",
    "Topic\n",
    "---\n",
    "* Given two non-empty linked lists l1 and l2, representing two non-negative integers, each digit is stored in reverse order, and each node stores a digit.\n",
    "* Calculate the sum of two non-negative integers and return a linked list representing the sum in reverse order.\n",
    "\n",
    "Problem solving ideas\n",
    "---\n",
    "* Simulates addition of large numbers, adding bitwise, adding the result to a new linked list. Pay attention to rounding and rounding to 10."
   ]
  },
  {
   "cell_type": "markdown",
   "metadata": {},
   "source": [
    "### Code"
   ]
  },
  {
   "cell_type": "code",
   "execution_count": 31,
   "metadata": {},
   "outputs": [],
   "source": [
    "# Definition for singly-linked list.\n",
    "class ListNode(object):\n",
    "    def __init__(self, val = 0, next = None):\n",
    "        self.val = val\n",
    "        self.next = None"
   ]
  },
  {
   "cell_type": "code",
   "execution_count": 32,
   "metadata": {},
   "outputs": [],
   "source": [
    "class Solution(ListNode):\n",
    "    # @return a ListNode\n",
    "    def addTwoNumbers(self, l1: ListNode, l2:ListNode) -> ListNode:\n",
    "        \"\"\"\n",
    "        :type l1: ListNode\n",
    "        :type l2: ListNode\n",
    "        :rtype: ListNode\n",
    "        \"\"\"\n",
    "        # O(n) and O(1)\n",
    "        dummy = ListNode()\n",
    "        cur = dummy\n",
    "        \n",
    "        carry = 0\n",
    "        while l1 or l2 or carry:\n",
    "            v1 = l1.val if l1 else 0\n",
    "            v2 = l2.val if l2 else 0\n",
    "            \n",
    "            # new digit\n",
    "            val = v1 + v2 + carry\n",
    "            # 15\n",
    "            carry = val // 10\n",
    "            val = val % 10\n",
    "            cur.next = ListNode(val)\n",
    "            \n",
    "            # update pointer\n",
    "            cur = cur.next\n",
    "            l1 = l1.next if l1 else None\n",
    "            l2 = l2.next if l2 else None\n",
    "        \n",
    "        return dummy.next "
   ]
  },
  {
   "cell_type": "code",
   "execution_count": 39,
   "metadata": {},
   "outputs": [],
   "source": [
    "sol = Solution()\n",
    "result = sol.addTwoNumbers(ListNode(2, ListNode(4, ListNode(3))), ListNode(5, ListNode(6, ListNode(4))))"
   ]
  },
  {
   "cell_type": "code",
   "execution_count": 41,
   "metadata": {},
   "outputs": [
    {
     "data": {
      "text/plain": [
       "7"
      ]
     },
     "execution_count": 41,
     "metadata": {},
     "output_type": "execute_result"
    }
   ],
   "source": [
    "result.val"
   ]
  }
 ],
 "metadata": {
  "interpreter": {
   "hash": "54aaf1eda87e4d429ce8f559da4b5ea15d43cf9efb320428d4bb91d84fa10737"
  },
  "kernelspec": {
   "display_name": "Python 3.8.0 64-bit ('tf_gpu_251': conda)",
   "language": "python",
   "name": "python3"
  },
  "language_info": {
   "codemirror_mode": {
    "name": "ipython",
    "version": 3
   },
   "file_extension": ".py",
   "mimetype": "text/x-python",
   "name": "python",
   "nbconvert_exporter": "python",
   "pygments_lexer": "ipython3",
   "version": "3.8.0"
  },
  "orig_nbformat": 4
 },
 "nbformat": 4,
 "nbformat_minor": 2
}
