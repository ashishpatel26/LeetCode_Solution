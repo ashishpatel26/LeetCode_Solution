{
 "cells": [
  {
   "cell_type": "markdown",
   "metadata": {},
   "source": [
    "### [0001. The Sum of Two Numbers](https://leetcode.com/problems/two-sum/)\n",
    "---\n",
    "* **Tags**: Array, HashTable\n",
    "* **Difficulty**: Easy\n",
    "\n",
    "Topic\n",
    "---\n",
    "Description: Given an array of integers `nums` and an integer target value `target`.\n",
    "Requirement: Find two integers `target` whose , and output the subscripts of the two integers.\n",
    "\n",
    "Problem solving ideas\n",
    "---\n",
    "* The simplest idea is to enumerate each number `nums[i]` in the array and find whether it exists in the array `target - nums[i]`.\n",
    "\n",
    "* In this way, the double-loop brute force search is used, and the time complexity is $O(n^2)$.\n",
    "\n",
    "* Another idea is to use a dictionary. The key-value pair information in the dictionary is `target-nums[i] ：i`. ifor the subscript.\n",
    "\n",
    "* Traverse the array, for each number `nums[i]`, first check whether it exists in the dictionary, `target - nums[i]` and output the `target - nums[i]` corresponding subscript and the subscript of the current array if it exists `i`. If not, store `target-nums[i]` the `i`."
   ]
  },
  {
   "cell_type": "markdown",
   "metadata": {},
   "source": [
    "### Code"
   ]
  },
  {
   "cell_type": "code",
   "execution_count": 8,
   "metadata": {},
   "outputs": [
    {
     "data": {
      "text/plain": [
       "(0, 1)"
      ]
     },
     "execution_count": 8,
     "metadata": {},
     "output_type": "execute_result"
    }
   ],
   "source": [
    "class Solution:\n",
    "    def twoSum(self, nums, target):\n",
    "        numDict = dict()\n",
    "        for i in range(len(nums)):\n",
    "            if target-nums[i] in numDict:\n",
    "                return numDict[target-nums[i]], i\n",
    "            numDict[nums[i]] = i\n",
    "        return [0]\n",
    "    \n",
    "sol = Solution()\n",
    "sol.twoSum([2,7,11,15], 9)"
   ]
  }
 ],
 "metadata": {
  "interpreter": {
   "hash": "54aaf1eda87e4d429ce8f559da4b5ea15d43cf9efb320428d4bb91d84fa10737"
  },
  "kernelspec": {
   "display_name": "Python 3.8.0 64-bit ('tf_gpu_251': conda)",
   "language": "python",
   "name": "python3"
  },
  "language_info": {
   "codemirror_mode": {
    "name": "ipython",
    "version": 3
   },
   "file_extension": ".py",
   "mimetype": "text/x-python",
   "name": "python",
   "nbconvert_exporter": "python",
   "pygments_lexer": "ipython3",
   "version": "3.8.0"
  },
  "orig_nbformat": 4
 },
 "nbformat": 4,
 "nbformat_minor": 2
}
